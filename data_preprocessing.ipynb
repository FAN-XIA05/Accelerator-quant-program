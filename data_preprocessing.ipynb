{
 "cells": [
  {
   "cell_type": "code",
   "execution_count": 50,
   "metadata": {},
   "outputs": [],
   "source": [
    "\n",
    "import pandas as pd\n",
    "import os\n",
    "from datetime import datetime\n",
    "import pytz\n",
    "from sklearn.impute import KNNImputer"
   ]
  },
  {
   "cell_type": "code",
   "execution_count": 29,
   "metadata": {},
   "outputs": [],
   "source": [
    "# 读取因子数据\n",
    "factors_df = pd.read_csv('/Users/ryan/Desktop/project/collection_code/factor_data/ff_factors.csv', parse_dates=['Date'])\n"
   ]
  },
  {
   "cell_type": "code",
   "execution_count": 40,
   "metadata": {},
   "outputs": [
    {
     "name": "stderr",
     "output_type": "stream",
     "text": [
      "/var/folders/cw/yxxjm9s13cz54l3wm4btmtnc0000gn/T/ipykernel_36548/4088704385.py:6: FutureWarning: The behavior of DataFrame concatenation with empty or all-NA entries is deprecated. In a future version, this will no longer exclude empty or all-NA columns when determining the result dtypes. To retain the old behavior, exclude the relevant entries before the concat operation.\n",
      "  stock_returns_df = pd.concat([pd.read_csv(file, parse_dates=['Date']).assign(FileName=os.path.basename(file)) for file in csv_files], ignore_index=True)\n"
     ]
    }
   ],
   "source": [
    "folder_path = '/Users/ryan/Desktop/project/collection_code/stock_data'\n",
    "# 获取文件夹中所有 CSV 文件的路径\n",
    "csv_files = [os.path.join(folder_path, file) for file in os.listdir(folder_path) if file.endswith('.csv')]\n",
    "\n",
    "# 读取所有 CSV 文件并合并到一个 DataFrame 中，并添加文件名作为新的一列\n",
    "stock_returns_df = pd.concat([pd.read_csv(file, parse_dates=['Date']).assign(FileName=os.path.basename(file)) for file in csv_files], ignore_index=True)\n",
    "\n",
    "columns = stock_returns_df.columns.tolist()\n",
    "# 将 FileName 列移动到第一列\n",
    "columns = ['FileName'] + [col for col in columns if col != 'FileName']\n",
    "\n",
    "# 重新排列数据框的列顺序\n",
    "stock_returns_df = stock_returns_df[columns]"
   ]
  },
  {
   "cell_type": "code",
   "execution_count": 41,
   "metadata": {},
   "outputs": [],
   "source": [
    "# 确保 stock_returns_df 中的 Date 列是 datetime64[ns] 类型\n",
    "stock_returns_df['Date'] = pd.to_datetime(stock_returns_df['Date'], utc=True).dt.tz_localize(None)\n",
    "\n",
    "# 确保 factors_df 中的 Date 列是 datetime64[ns] 类型\n",
    "factors_df['Date'] = pd.to_datetime(factors_df['Date'])\n",
    "\n",
    "# 修改日期格式，去掉时间部分和时区信息\n",
    "def format_date(date):\n",
    "    # 确保日期是 datetime 类型\n",
    "    if not isinstance(date, pd.Timestamp):\n",
    "        date = pd.to_datetime(date)\n",
    "    # 格式化日期为 'YYYY-MM-DD' 格式\n",
    "    return date.strftime('%Y-%m-%d')\n",
    "\n",
    "# 应用日期\n",
    "stock_returns_df['Date'] = stock_returns_df['Date'].apply(format_date)\n",
    "factors_df['Date'] = factors_df['Date'].apply(format_date)"
   ]
  },
  {
   "cell_type": "code",
   "execution_count": 58,
   "metadata": {},
   "outputs": [],
   "source": [
    "# 合并数据\n",
    "merged_df = pd.merge(stock_returns_df, factors_df, on='Date', how='inner')\n",
    "\n",
    "output_file = 'merged_data.csv'\n",
    "merged_df.to_csv(output_file, index=False)"
   ]
  },
  {
   "cell_type": "code",
   "execution_count": 56,
   "metadata": {},
   "outputs": [
    {
     "name": "stdout",
     "output_type": "stream",
     "text": [
      "                Open           High            Low          Close  \\\n",
      "count  275364.000000  275364.000000  275364.000000  275364.000000   \n",
      "mean      164.710327     166.723615     162.710308     164.761656   \n",
      "std       315.537898     319.385144     311.966732     315.741006   \n",
      "min         3.475000       3.562000       3.411000       3.483000   \n",
      "25%        55.001116      55.655305      54.301407      54.999674   \n",
      "50%        99.899141     101.203788      98.639906      99.944542   \n",
      "75%       189.887805     192.167894     187.489015     189.926517   \n",
      "max      7793.580078    7840.000000    7721.470215    7791.540039   \n",
      "\n",
      "           Dividends   Stock Splits    momentum_5d   momentum_10d  \\\n",
      "count  275364.000000  275364.000000  275364.000000  275364.000000   \n",
      "mean        0.008791       0.000401       0.001713       0.003392   \n",
      "std         0.131118       0.069810       0.045768       0.063952   \n",
      "min         0.000000       0.000000      -0.531282      -0.605622   \n",
      "25%         0.000000       0.000000      -0.022849      -0.032685   \n",
      "50%         0.000000       0.000000       0.001869       0.003456   \n",
      "75%         0.000000       0.000000       0.026361       0.039509   \n",
      "max        35.000000      20.000000       0.527036       0.873555   \n",
      "\n",
      "        momentum_20d            RSI  ...  MACD_Histogram    priceToBook  \\\n",
      "count  275364.000000  275364.000000  ...   275364.000000  258714.000000   \n",
      "mean        0.006461      51.373793  ...        0.017606       8.390059   \n",
      "std         0.090483      17.024744  ...        1.978755      15.945395   \n",
      "min        -0.614706       0.000000  ...      -70.326078       0.423185   \n",
      "25%        -0.048820      38.898843  ...       -0.338039       1.972992   \n",
      "50%         0.005474      51.444224  ...        0.011770       3.621293   \n",
      "75%         0.058205      63.793974  ...        0.368463       7.770328   \n",
      "max         2.223735     100.000000  ...       87.709649     161.578950   \n",
      "\n",
      "          trailingPE      forwardPE  profitMargins  net_income_growth  \\\n",
      "count  262599.000000  275364.000000  275364.000000      272589.000000   \n",
      "mean       39.523265      22.155121       0.140017          50.085049   \n",
      "std        84.079957      19.054688       0.127053         328.742683   \n",
      "min         3.077644      -3.584669      -0.663750       -1840.864261   \n",
      "25%        16.650068      12.654901       0.072980         -18.179656   \n",
      "50%        24.701149      18.085852       0.129640           8.005477   \n",
      "75%        36.126762      26.008928       0.197290          37.600402   \n",
      "max      1060.888900     224.044370       0.739020        4384.782609   \n",
      "\n",
      "              Mkt-RF            SMB            HML             RF  \n",
      "count  275364.000000  275364.000000  275364.000000  275364.000000  \n",
      "mean        0.000105      -0.000292       0.000208       0.000133  \n",
      "std         0.012410       0.007085       0.009910       0.000080  \n",
      "min        -0.042900      -0.024000      -0.038700       0.000000  \n",
      "25%        -0.007200      -0.005200      -0.005600       0.000040  \n",
      "50%        -0.000100      -0.000400      -0.000100       0.000160  \n",
      "75%         0.007600       0.003800       0.006200       0.000210  \n",
      "max         0.056800       0.029900       0.036400       0.000220  \n",
      "\n",
      "[8 rows x 22 columns]\n",
      "FileName\n",
      "WMT_full.csv     555\n",
      "DXCM_full.csv    555\n",
      "L_full.csv       555\n",
      "BMY_full.csv     555\n",
      "HOLX_full.csv    555\n",
      "                ... \n",
      "AMGN_full.csv    555\n",
      "CEG_full.csv     544\n",
      "GEHC_full.csv    315\n",
      "KVUE_full.csv    220\n",
      "VLTO_full.csv    115\n",
      "Name: count, Length: 498, dtype: int64\n"
     ]
    }
   ],
   "source": [
    "#数据总览\n",
    "print(merged_df.describe()) \n",
    "print(merged_df['FileName'].value_counts()) "
   ]
  },
  {
   "cell_type": "code",
   "execution_count": null,
   "metadata": {},
   "outputs": [
    {
     "name": "stdout",
     "output_type": "stream",
     "text": [
      "             FileName        Date       Open       High        Low      Close  \\\n",
      "0        WMT_full.csv  2022-01-03  45.995855  46.248193  45.679632  46.203476   \n",
      "1        WMT_full.csv  2022-01-04  46.008645  46.360004  45.280379  45.357037   \n",
      "2        WMT_full.csv  2022-01-05  45.628539  46.618727  45.593403  45.970310   \n",
      "3        WMT_full.csv  2022-01-06  45.874486  46.200290  45.484799  45.842545   \n",
      "4        WMT_full.csv  2022-01-07  45.836152  46.430268  45.663668  46.280140   \n",
      "...               ...         ...        ...        ...        ...        ...   \n",
      "275359  MDLZ_full.csv  2024-03-13  70.156882  70.332129  69.524055  69.601936   \n",
      "275360  MDLZ_full.csv  2024-03-14  69.514312  69.621407  68.628341  69.085930   \n",
      "275361  MDLZ_full.csv  2024-03-15  69.124875  69.183288  68.287587  68.881477   \n",
      "275362  MDLZ_full.csv  2024-03-18  69.124879  69.709031  68.949632  69.426689   \n",
      "275363  MDLZ_full.csv  2024-03-19  69.767451  70.526850  69.670086  70.341866   \n",
      "\n",
      "          Volume  Dividends  Stock Splits  momentum_5d  ...  priceToBook  \\\n",
      "0       20706600        0.0           0.0     0.001713  ...     9.884748   \n",
      "1       33930000        0.0           0.0     0.001713  ...     9.884748   \n",
      "2       35418000        0.0           0.0     0.001713  ...     9.884748   \n",
      "3       21828900        0.0           0.0     0.001713  ...     9.884748   \n",
      "4       19723500        0.0           0.0     0.001713  ...     9.884748   \n",
      "...          ...        ...           ...          ...  ...          ...   \n",
      "275359   6781100        0.0           0.0    -0.001815  ...     2.809890   \n",
      "275360   7898500        0.0           0.0    -0.000564  ...     2.809890   \n",
      "275361  16858300        0.0           0.0    -0.015310  ...     2.809890   \n",
      "275362   8754500        0.0           0.0    -0.015055  ...     2.809890   \n",
      "275363   9590900        0.0           0.0     0.007109  ...     2.809890   \n",
      "\n",
      "        trailingPE  forwardPE  profitMargins  net_income_growth  Adj Close  \\\n",
      "0        42.528923  37.245860        0.02339          32.799658        NaN   \n",
      "1        42.528923  37.245860        0.02339          32.799658        NaN   \n",
      "2        42.528923  37.245860        0.02339          32.799658        NaN   \n",
      "3        42.528923  37.245860        0.02339          32.799658        NaN   \n",
      "4        42.528923  37.245860        0.02339          32.799658        NaN   \n",
      "...            ...        ...            ...                ...        ...   \n",
      "275359   17.114035  18.117939        0.10556          -7.017544        NaN   \n",
      "275360   17.114035  18.117939        0.10556          -7.017544        NaN   \n",
      "275361   17.114035  18.117939        0.10556          -7.017544        NaN   \n",
      "275362   17.114035  18.117939        0.10556          -7.017544        NaN   \n",
      "275363   17.114035  18.117939        0.10556          -7.017544        NaN   \n",
      "\n",
      "        Mkt-RF     SMB     HML       RF  \n",
      "0       0.0073  0.0033  0.0080  0.00000  \n",
      "1      -0.0029 -0.0083  0.0364  0.00000  \n",
      "2      -0.0228 -0.0145  0.0259  0.00000  \n",
      "3       0.0000  0.0020  0.0175  0.00000  \n",
      "4      -0.0048 -0.0132  0.0202  0.00000  \n",
      "...        ...     ...     ...      ...  \n",
      "275359 -0.0014  0.0030 -0.0004  0.00021  \n",
      "275360 -0.0043 -0.0130 -0.0107  0.00021  \n",
      "275361 -0.0059  0.0074  0.0080  0.00021  \n",
      "275362  0.0053 -0.0104 -0.0022  0.00021  \n",
      "275363  0.0054  0.0050 -0.0024  0.00021  \n",
      "\n",
      "[275364 rows x 27 columns]\n"
     ]
    }
   ],
   "source": [
    "# Momentum 和 RSI 有缺失值（类似移动平均方法导致的树数值缺失），这里尝试了使用 KNN 算法填充缺失值\n",
    "columns_to_impute=['momentum_5d','momentum_10d','momentum_20d','RSI']\n",
    "df_to_impute = merged_df[columns_to_impute]\n",
    "\n",
    "imputer = KNNImputer(n_neighbors=5)\n",
    "df_imputed = imputer.fit_transform(df_to_impute)\n",
    "\n",
    "merged_df[columns_to_impute]=df_imputed\n",
    "\n",
    "print(merged_df)"
   ]
  },
  {
   "cell_type": "code",
   "execution_count": 52,
   "metadata": {
    "vscode": {
     "languageId": "ini"
    }
   },
   "outputs": [],
   "source": [
    "# 导出来的数据中，momentum_5d、momentum_10d、momentum_20d 和 RSI 列中的缺失值已经被填充了（但是需要检验\n",
    "output_file = ' imputed_data.csv'\n",
    "merged_df.to_csv(output_file, index=False)"
   ]
  },
  {
   "cell_type": "code",
   "execution_count": null,
   "metadata": {},
   "outputs": [
    {
     "name": "stderr",
     "output_type": "stream",
     "text": [
      "/Users/ryan/Library/Python/3.9/lib/python/site-packages/sklearn/utils/extmath.py:1137: RuntimeWarning: invalid value encountered in divide\n",
      "  updated_mean = (last_sum + new_sum) / updated_sample_count\n",
      "/Users/ryan/Library/Python/3.9/lib/python/site-packages/sklearn/utils/extmath.py:1142: RuntimeWarning: invalid value encountered in divide\n",
      "  T = new_sum / new_sample_count\n",
      "/Users/ryan/Library/Python/3.9/lib/python/site-packages/sklearn/utils/extmath.py:1162: RuntimeWarning: invalid value encountered in divide\n",
      "  new_unnormalized_variance -= correction**2 / new_sample_count\n"
     ]
    },
    {
     "name": "stdout",
     "output_type": "stream",
     "text": [
      "             FileName        Date      Open      High       Low     Close  \\\n",
      "0        WMT_full.csv  2022-01-03 -0.376230 -0.377211 -0.375139 -0.375493   \n",
      "1        WMT_full.csv  2022-01-04 -0.376189 -0.376861 -0.376419 -0.378173   \n",
      "2        WMT_full.csv  2022-01-05 -0.377394 -0.376051 -0.375415 -0.376231   \n",
      "3        WMT_full.csv  2022-01-06 -0.376614 -0.377361 -0.375764 -0.376636   \n",
      "4        WMT_full.csv  2022-01-07 -0.376736 -0.376641 -0.375190 -0.375250   \n",
      "...               ...         ...       ...       ...       ...       ...   \n",
      "275359  MDLZ_full.csv  2024-03-13 -0.299659 -0.301804 -0.298706 -0.301386   \n",
      "275360  MDLZ_full.csv  2024-03-14 -0.301695 -0.304029 -0.301577 -0.303020   \n",
      "275361  MDLZ_full.csv  2024-03-15 -0.302929 -0.305401 -0.302670 -0.303668   \n",
      "275362  MDLZ_full.csv  2024-03-18 -0.302929 -0.303755 -0.300548 -0.301941   \n",
      "275363  MDLZ_full.csv  2024-03-19 -0.300893 -0.301194 -0.298238 -0.299042   \n",
      "\n",
      "          Volume  Dividends  Stock Splits   momentum_5d  ...  priceToBook  \\\n",
      "0       0.548557        0.0           0.0 -4.737806e-18  ...     0.093738   \n",
      "1       1.050444        0.0           0.0 -4.737806e-18  ...     0.093738   \n",
      "2       1.106920        0.0           0.0 -4.737806e-18  ...     0.093738   \n",
      "3       0.591153        0.0           0.0 -4.737806e-18  ...     0.093738   \n",
      "4       0.511244        0.0           0.0 -4.737806e-18  ...     0.093738   \n",
      "...          ...        ...           ...           ...  ...          ...   \n",
      "275359  0.020022        0.0           0.0 -7.708287e-02  ...    -0.349956   \n",
      "275360  0.062432        0.0           0.0 -4.973519e-02  ...    -0.349956   \n",
      "275361  0.402497        0.0           0.0 -3.719262e-01  ...    -0.349956   \n",
      "275362  0.094921        0.0           0.0 -3.663698e-01  ...    -0.349956   \n",
      "275363  0.126666        0.0           0.0  1.179040e-01  ...    -0.349956   \n",
      "\n",
      "        trailingPE  forwardPE  profitMargins  net_income_growth  Adj Close  \\\n",
      "0         0.035748   0.791971      -0.917942           -0.05258        NaN   \n",
      "1         0.035748   0.791971      -0.917942           -0.05258        NaN   \n",
      "2         0.035748   0.791971      -0.917942           -0.05258        NaN   \n",
      "3         0.035748   0.791971      -0.917942           -0.05258        NaN   \n",
      "4         0.035748   0.791971      -0.917942           -0.05258        NaN   \n",
      "...            ...        ...            ...                ...        ...   \n",
      "275359   -0.266523  -0.211874      -0.271202           -0.17370        NaN   \n",
      "275360   -0.266523  -0.211874      -0.271202           -0.17370        NaN   \n",
      "275361   -0.266523  -0.211874      -0.271202           -0.17370        NaN   \n",
      "275362   -0.266523  -0.211874      -0.271202           -0.17370        NaN   \n",
      "275363   -0.266523  -0.211874      -0.271202           -0.17370        NaN   \n",
      "\n",
      "          Mkt-RF       SMB       HML        RF  \n",
      "0       0.579717  0.506947  0.786257 -1.658772  \n",
      "1      -0.242170 -1.130398  3.652125 -1.658772  \n",
      "2      -1.845655 -2.005531  2.592561 -1.658772  \n",
      "3      -0.008496  0.323451  1.744910 -1.658772  \n",
      "4      -0.395266 -1.822035  2.017369 -1.658772  \n",
      "...          ...       ...       ...       ...  \n",
      "275359 -0.121304  0.464602 -0.061393  0.965058  \n",
      "275360 -0.354978 -1.793805 -1.100775  0.965058  \n",
      "275361 -0.483901  1.085664  0.786257  0.965058  \n",
      "275362  0.418563 -1.426814 -0.243033  0.965058  \n",
      "275363  0.426620  0.746903 -0.263215  0.965058  \n",
      "\n",
      "[275364 rows x 27 columns]\n"
     ]
    }
   ],
   "source": [
    "#归一化数据\n",
    "from sklearn.preprocessing import MinMaxScaler, StandardScaler\n",
    "# 选择需要归一化的数值列 也可以继续添加需要归一化的列\n",
    "numeric_columns = [\n",
    "    'Open', 'High', 'Low', 'Close', 'Volume', 'momentum_5d', 'momentum_10d', 'momentum_20d', 'RSI', 'MACD',\n",
    "    'Signal_Line', 'MACD_Histogram', 'marketCap', 'priceToBook', 'trailingPE', 'forwardPE', 'profitMargins',\n",
    "    'net_income_growth', 'Adj Close', 'Mkt-RF', 'SMB', 'HML', 'RF'\n",
    "]\n",
    "# 提取数值列\n",
    "numeric_data = merged_df[numeric_columns]\n",
    "\n",
    "# 应用StandardScaler进行归一化\n",
    "scaler = StandardScaler()\n",
    "data_normalized = scaler.fit_transform(numeric_data)\n",
    "\n",
    "# 将归一化后的数值列放回原数据框\n",
    "merged_df[numeric_columns] = data_normalized\n",
    "\n",
    "# 查看归一化后的数据\n",
    "print(merged_df)"
   ]
  }
 ],
 "metadata": {
  "kernelspec": {
   "display_name": "Python 3",
   "language": "python",
   "name": "python3"
  },
  "language_info": {
   "codemirror_mode": {
    "name": "ipython",
    "version": 3
   },
   "file_extension": ".py",
   "mimetype": "text/x-python",
   "name": "python",
   "nbconvert_exporter": "python",
   "pygments_lexer": "ipython3",
   "version": "3.9.6"
  }
 },
 "nbformat": 4,
 "nbformat_minor": 2
}
